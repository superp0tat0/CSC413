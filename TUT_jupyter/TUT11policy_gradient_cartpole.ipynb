{
 "cells": [
  {
   "cell_type": "code",
   "execution_count": 1,
   "metadata": {},
   "outputs": [],
   "source": [
    "import gym\n",
    "\n",
    "import torch\n",
    "from torch import nn\n",
    "import torch.nn.functional as F\n",
    "from torch.autograd import Variable\n",
    "from torch.distributions import Bernoulli\n",
    "\n",
    "import matplotlib.pyplot as plt"
   ]
  },
  {
   "cell_type": "code",
   "execution_count": 2,
   "metadata": {},
   "outputs": [],
   "source": [
    "class PolicyNet(nn.Module):\n",
    "    def __init__(self, input_dim, output_dim):\n",
    "        super(PolicyNet, self).__init__()\n",
    "\n",
    "        self.input_dim = input_dim\n",
    "        self.output_dim = output_dim\n",
    "\n",
    "        self.fc1 = nn.Linear(self.input_dim, 32)\n",
    "        self.fc2 = nn.Linear(32, 32)\n",
    "        self.output = nn.Linear(32, self.output_dim)\n",
    "\n",
    "    def forward(self, x):\n",
    "        output = F.relu(self.fc1(x))\n",
    "        output = F.relu(self.fc2(output))\n",
    "        output = torch.sigmoid(self.output(output))\n",
    "\n",
    "        return output"
   ]
  },
  {
   "cell_type": "code",
   "execution_count": 3,
   "metadata": {},
   "outputs": [],
   "source": [
    "def convert_to_torch_variable(arr):\n",
    "    \"\"\"Converts a numpy array to torch variable\"\"\"\n",
    "    return Variable(torch.from_numpy(arr).float())\n",
    "\n",
    "\n",
    "def record_video():\n",
    "    print(\"Recording video\")\n",
    "    recorder_cur_state = monitored_env.reset()\n",
    "    recorder_cur_state = convert_to_torch_variable(recorder_cur_state)\n",
    "    recorder_done = False\n",
    "    while not recorder_done:\n",
    "        recorder_action = Bernoulli(probs=policy_net(recorder_cur_state)).sample().numpy().astype(int)[0]\n",
    "\n",
    "        recorder_next_state, _, recorder_done, _ = monitored_env.step(recorder_action)\n",
    "        recorder_cur_state = convert_to_torch_variable(recorder_next_state)"
   ]
  },
  {
   "cell_type": "code",
   "execution_count": 4,
   "metadata": {},
   "outputs": [
    {
     "name": "stderr",
     "output_type": "stream",
     "text": [
      "[2019-03-26 19:52:33,982] Making new env: CartPole-v0\n",
      "[2019-03-26 19:52:33,987] Clearing 12 monitor files from previous run (because force=True was provided)\n"
     ]
    }
   ],
   "source": [
    "# Define environment\n",
    "env = gym.make(\"CartPole-v0\")\n",
    "env.seed(0)\n",
    "\n",
    "# Create environment monitor for video recording\n",
    "video_monitor_callable = lambda _: True\n",
    "monitored_env = gym.wrappers.Monitor(env, './cartpole_videos', force=True, video_callable=video_monitor_callable)\n",
    "\n",
    "state_dim = env.observation_space.shape[0]\n",
    "action_dim = env.action_space.n\n",
    "bernoulli_action_dim = 1\n",
    "\n",
    "# Initialize policy network\n",
    "policy_net = PolicyNet(input_dim=state_dim, output_dim=bernoulli_action_dim)\n",
    "\n",
    "# Hyperparameters\n",
    "NUM_EPISODES = 500\n",
    "GAMMA = 0.99\n",
    "BATCH_SIZE = 5\n",
    "LEARNING_RATE = 0.01\n",
    "\n",
    "# Let baseline be 0 for now\n",
    "baseline = 0.0\n",
    "\n",
    "# Define optimizer\n",
    "optimizer = torch.optim.RMSprop(policy_net.parameters(), lr=LEARNING_RATE)"
   ]
  },
  {
   "cell_type": "code",
   "execution_count": 5,
   "metadata": {},
   "outputs": [
    {
     "name": "stdout",
     "output_type": "stream",
     "text": [
      "Episode 10: Average reward per trajectory = 29.2\n",
      "Episode 20: Average reward per trajectory = 36.2\n",
      "Episode 30: Average reward per trajectory = 139.0\n",
      "Episode 40: Average reward per trajectory = 200.0\n",
      "Episode 50: Average reward per trajectory = 178.0\n",
      "Episode 60: Average reward per trajectory = 200.0\n",
      "Episode 70: Average reward per trajectory = 199.2\n",
      "Episode 80: Average reward per trajectory = 200.0\n",
      "Episode 90: Average reward per trajectory = 200.0\n"
     ]
    },
    {
     "name": "stderr",
     "output_type": "stream",
     "text": [
      "[2019-03-26 19:53:03,604] Starting new video recorder writing to /home/jenny/Documents/UofT/TA-CSC421/tutorials/cartpole_videos/openaigym.video.0.8404.video000000.mp4\n"
     ]
    },
    {
     "name": "stdout",
     "output_type": "stream",
     "text": [
      "Episode 100: Average reward per trajectory = 200.0\n",
      "Recording video\n",
      "Episode 110: Average reward per trajectory = 120.4\n",
      "Episode 120: Average reward per trajectory = 127.2\n",
      "Episode 130: Average reward per trajectory = 150.0\n",
      "Episode 140: Average reward per trajectory = 200.0\n",
      "Episode 150: Average reward per trajectory = 200.0\n",
      "Episode 160: Average reward per trajectory = 200.0\n",
      "Episode 170: Average reward per trajectory = 200.0\n",
      "Episode 180: Average reward per trajectory = 200.0\n",
      "Episode 190: Average reward per trajectory = 155.4\n"
     ]
    },
    {
     "name": "stderr",
     "output_type": "stream",
     "text": [
      "[2019-03-26 19:53:44,118] Starting new video recorder writing to /home/jenny/Documents/UofT/TA-CSC421/tutorials/cartpole_videos/openaigym.video.0.8404.video000001.mp4\n"
     ]
    },
    {
     "name": "stdout",
     "output_type": "stream",
     "text": [
      "Episode 200: Average reward per trajectory = 171.4\n",
      "Recording video\n",
      "Episode 210: Average reward per trajectory = 189.0\n",
      "Episode 220: Average reward per trajectory = 200.0\n",
      "Episode 230: Average reward per trajectory = 200.0\n",
      "Episode 240: Average reward per trajectory = 200.0\n",
      "Episode 250: Average reward per trajectory = 200.0\n",
      "Episode 260: Average reward per trajectory = 200.0\n",
      "Episode 270: Average reward per trajectory = 157.2\n",
      "Episode 280: Average reward per trajectory = 120.0\n",
      "Episode 290: Average reward per trajectory = 106.6\n"
     ]
    },
    {
     "name": "stderr",
     "output_type": "stream",
     "text": [
      "[2019-03-26 19:54:22,374] Starting new video recorder writing to /home/jenny/Documents/UofT/TA-CSC421/tutorials/cartpole_videos/openaigym.video.0.8404.video000002.mp4\n"
     ]
    },
    {
     "name": "stdout",
     "output_type": "stream",
     "text": [
      "Episode 300: Average reward per trajectory = 141.2\n",
      "Recording video\n",
      "Episode 310: Average reward per trajectory = 159.4\n",
      "Episode 320: Average reward per trajectory = 94.2\n",
      "Episode 330: Average reward per trajectory = 184.4\n",
      "Episode 340: Average reward per trajectory = 200.0\n",
      "Episode 350: Average reward per trajectory = 200.0\n",
      "Episode 360: Average reward per trajectory = 200.0\n",
      "Episode 370: Average reward per trajectory = 200.0\n",
      "Episode 380: Average reward per trajectory = 200.0\n",
      "Episode 390: Average reward per trajectory = 200.0\n"
     ]
    },
    {
     "name": "stderr",
     "output_type": "stream",
     "text": [
      "[2019-03-26 19:55:03,602] Starting new video recorder writing to /home/jenny/Documents/UofT/TA-CSC421/tutorials/cartpole_videos/openaigym.video.0.8404.video000003.mp4\n"
     ]
    },
    {
     "name": "stdout",
     "output_type": "stream",
     "text": [
      "Episode 400: Average reward per trajectory = 200.0\n",
      "Recording video\n",
      "Episode 410: Average reward per trajectory = 200.0\n",
      "Episode 420: Average reward per trajectory = 200.0\n",
      "Episode 430: Average reward per trajectory = 200.0\n",
      "Episode 440: Average reward per trajectory = 200.0\n",
      "Episode 450: Average reward per trajectory = 200.0\n",
      "Episode 460: Average reward per trajectory = 200.0\n",
      "Episode 470: Average reward per trajectory = 200.0\n",
      "Episode 480: Average reward per trajectory = 200.0\n",
      "Episode 490: Average reward per trajectory = 200.0\n"
     ]
    },
    {
     "name": "stderr",
     "output_type": "stream",
     "text": [
      "[2019-03-26 19:55:49,516] Starting new video recorder writing to /home/jenny/Documents/UofT/TA-CSC421/tutorials/cartpole_videos/openaigym.video.0.8404.video000004.mp4\n"
     ]
    },
    {
     "name": "stdout",
     "output_type": "stream",
     "text": [
      "Episode 500: Average reward per trajectory = 200.0\n",
      "Recording video\n"
     ]
    }
   ],
   "source": [
    "# Collect trajectory rewards for plotting purpose\n",
    "traj_reward_history = []\n",
    "\n",
    "# training loop\n",
    "for ep_i in range(NUM_EPISODES):\n",
    "    loss = 0.0\n",
    "\n",
    "    # Record states, actions and discounted rewards of this episode\n",
    "    states = []\n",
    "    actions = []\n",
    "    rewards = []\n",
    "    cumulative_undiscounted_reward = 0.0\n",
    "\n",
    "    for traj_i in range(BATCH_SIZE):\n",
    "        time_step = 0\n",
    "        done = False\n",
    "\n",
    "        # initialize environment\n",
    "        cur_state = env.reset()\n",
    "        cur_state = convert_to_torch_variable(cur_state)\n",
    "\n",
    "        discount_factor = 1.0\n",
    "        discounted_rewards = []\n",
    "\n",
    "        grad_log_params = []\n",
    "\n",
    "        while not done:\n",
    "            # Compute action probability using the current policy\n",
    "            action_prob = policy_net(cur_state)\n",
    "\n",
    "            # Sample action according to action probability\n",
    "            action_sampler = Bernoulli(probs=action_prob)\n",
    "            action = action_sampler.sample()\n",
    "            action = action.numpy().astype(int)[0]\n",
    "\n",
    "            # Record the states and actions -- will be used for policy gradient later\n",
    "            states.append(cur_state)\n",
    "            actions.append(action)\n",
    "\n",
    "            # take a step in the environment, and collect data\n",
    "            next_state, reward, done, _ = env.step(action)\n",
    "\n",
    "            # Discount the reward, and append to reward list\n",
    "            discounted_reward = reward * discount_factor\n",
    "            discounted_rewards.append(discounted_reward)\n",
    "            cumulative_undiscounted_reward += reward\n",
    "\n",
    "            # Prepare for taking the next step\n",
    "            cur_state = convert_to_torch_variable(next_state)\n",
    "\n",
    "            time_step += 1\n",
    "            discount_factor *= GAMMA\n",
    "\n",
    "        # Finished collecting data for the current trajectory. \n",
    "        # Recall temporal structure in policy gradient.\n",
    "        # Donstruct the \"cumulative future discounted reward\" at each time step.\n",
    "        for time_i in range(time_step):\n",
    "            # relevant reward is the sum of rewards from time t to the end of trajectory\n",
    "            relevant_reward = sum(discounted_rewards[time_i:])\n",
    "            rewards.append(relevant_reward)\n",
    "\n",
    "    # Finished collecting data for this batch. Update policy using policy gradient.\n",
    "    avg_traj_reward = cumulative_undiscounted_reward / BATCH_SIZE\n",
    "    traj_reward_history.append(avg_traj_reward)\n",
    "\n",
    "    if (ep_i + 1) % 10 == 0:\n",
    "        print(\"Episode {}: Average reward per trajectory = {}\".format(ep_i + 1, avg_traj_reward))\n",
    "\n",
    "    if (ep_i + 1) % 100 == 0:\n",
    "        record_video()\n",
    "\n",
    "    optimizer.zero_grad()\n",
    "    data_len = len(states)\n",
    "    loss = 0.0\n",
    "\n",
    "    # Compute the policy gradient\n",
    "    for data_i in range(data_len):\n",
    "        action_prob = policy_net(states[data_i])\n",
    "        action_sampler = Bernoulli(probs=action_prob)\n",
    "\n",
    "        loss -= action_sampler.log_prob(actions[data_i]) * (rewards[data_i] - baseline)\n",
    "    loss /= float(data_len)\n",
    "    loss.backward()\n",
    "    optimizer.step()"
   ]
  },
  {
   "cell_type": "code",
   "execution_count": 6,
   "metadata": {},
   "outputs": [
    {
     "name": "stderr",
     "output_type": "stream",
     "text": [
      "[2019-03-26 19:55:51,158] Finished writing results. You can upload them to the scoreboard via gym.upload('/home/jenny/Documents/UofT/TA-CSC421/tutorials/cartpole_videos')\n"
     ]
    },
    {
     "data": {
      "image/png": "[encoded data removed]",
      "text/plain": [
       "<matplotlib.figure.Figure at 0x7f742b009198>"
      ]
     },
     "metadata": {},
     "output_type": "display_data"
    }
   ],
   "source": [
    "# Don't forget to close the environments.\n",
    "monitored_env.close()\n",
    "env.close()\n",
    "\n",
    "# Plot learning curve\n",
    "plt.figure()\n",
    "plt.plot(traj_reward_history)\n",
    "plt.title(\"Learning to Solve CartPole-v1 with Policy Gradient\")\n",
    "plt.xlabel(\"Episode\")\n",
    "plt.ylabel(\"Average Reward per Trajectory\")\n",
    "plt.savefig(\"CartPole-pg.png\")\n",
    "plt.show()\n",
    "plt.close()\n"
   ]
  }
 ],
 "metadata": {
  "kernelspec": {
   "display_name": "Python 3",
   "language": "python",
   "name": "python3"
  },
  "language_info": {
   "codemirror_mode": {
    "name": "ipython",
    "version": 3
   },
   "file_extension": ".py",
   "mimetype": "text/x-python",
   "name": "python",
   "nbconvert_exporter": "python",
   "pygments_lexer": "ipython3",
   "version": "3.6.5"
  },
  "widgets": {
   "state": {},
   "version": "1.1.2"
  }
 },
 "nbformat": 4,
 "nbformat_minor": 2
}
